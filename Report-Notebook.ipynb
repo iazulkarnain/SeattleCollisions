{
 "cells": [
  {
   "cell_type": "markdown",
   "metadata": {},
   "source": [
    "##### <strong><div align=\"center\"> Data Scientist IBM Professional Certification</div></strong>  \n",
    "###### <div align=\"center\"> Course 9: Capstone Project</div>  "
   ]
  },
  {
   "cell_type": "markdown",
   "metadata": {},
   "source": [
    "# Insights on Collision Incidents in Seattle, Washington in 2004-2020\n",
    "Data Science: Towards Zero Collision Accident!"
   ]
  },
  {
   "cell_type": "markdown",
   "metadata": {},
   "source": [
    "*Published by **Ihsan Ahmad Zulkarnain**, Indonesia, 6 October 2020*"
   ]
  },
  {
   "cell_type": "markdown",
   "metadata": {},
   "source": [
    "## <a name=\"ToC\"></a>Table of Contents  \n",
    "1. [Introduction](#1)  \n",
    "    1.1. [Background](#1.1)   \n",
    "    1.2. [The Questions of Interest](#1.2) \n",
    "2. [Data Overview](#2)  \n",
    "    2.1. [Metadata](#2.1)   \n",
    "    2.2. [Data Description](#2.2)  \n",
    "3. [Methodology](#3)  \n",
    "    3.1. [Data Preprocessing](#3.1)   \n",
    "    3.2. [Exploratory Data Analysis and Data Visualization](#3.2)  \n",
    "    3.3. [Accident Severity Classification](#3.3)   \n",
    "    3.3.1. [Data Preprocessing for Classification](#3.3.1)   \n",
    "    3.3.2. [Classification Models](#3.3.2)   \n",
    "    3.3.3. [Metrics for Model Evaluation](#3.3.3)   \n",
    "4. [Results and Discussion](#4)  \n",
    "    4.1. [Exploratory Data Analysis](#4.1)  \n",
    "    4.1.1. [Descriptive Statistics](#4.1.1)  \n",
    "    4.1.2. [Grouping Data into Categories](#4.1.2)  \n",
    "    4.1.3. [Waffle Charts of Categorical Features](#4.1.3)  \n",
    "    4.1.4. [Weather and Road Condition Effects on the Number and the Severity of the Accidents](#4.1.4)  \n",
    "    4.1.5. [Time-Series Data](#4.1.5)  \n",
    "    4.1.6. [Analysis of Variance (ANOVA)](#4.1.6)  \n",
    "    4.1.7. [Correlation Analysis](#4.1.7)  \n",
    "    4.1.8. [Choropleth Map Visualization](#4.1.8)  \n",
    "    4.2. [Accident Severity Classification](#4.2)  \n",
    "    4.2.1. [K-Nearest Neighbors (KNN)](#4.2.1)  \n",
    "    4.2.2. [Decision Tree](#4.2.2)  \n",
    "    4.2.3. [Support Vector Machine (SVM)](#4.2.3)  \n",
    "    4.2.4. [Logistic Regression](#4.2.4)  \n",
    "    4.2.5. [Model Evaluation using the Dataset of 2020](#4.2.5)  \n",
    "    4.2.6. [The Significant Features Leading to Accidents with Injury based on the Classification Model](#4.2.6)  \n",
    "5. [Conclusion and Remarks](#5)  "
   ]
  },
  {
   "cell_type": "markdown",
   "metadata": {},
   "source": [
    "## <a name=\"LoT\"></a>List of Tables\n",
    "1. [Descriptive statistics of the data](#t1)  \n",
    "2. [The numbers of no injury (1) and with injury (2) accidents](#t2)  \n",
    "3. [The numbers of accidents based on the accident location type](#t3)  \n",
    "4. [The numbers of accidents between 2004-2020 by district](#t4)  \n",
    "5. [The evaluation metrics for each classification model](#t5)"
   ]
  },
  {
   "cell_type": "markdown",
   "metadata": {},
   "source": [
    "## <a name=\"LoF\"></a>List of Figures\n",
    "1. [The waffle charts for seven data features](#f1)  \n",
    "2. [The numbers of accidents by weather/road condition and its severity](#f2)  \n",
    "3. [Time-series data of the monthly (a) and quarterly (b) numbers of accidents](#f3)\n",
    "4. [The heatmap of the correlation among the accident severity and the features of weather](#f4)\n",
    "5. [The choropleth map of the numbers of accidents by its district (a: district number from WikiMedia, b: choropleth map)](#f5)\n",
    "6. [The choropleth map of the numbers of accidents by its neighborhood (a: 2009, b: 2019)](#f6)\n",
    "7. [The choropleth map of the numbers of accidents per neighborhood area (a: 2009, b: 2019)](#f7)\n",
    "8. [The Jaccard similarity scores for various values of k in the KNN model](#f8)\n",
    "9. [The Jaccard similarity scores for various values of maximum depth in the decision tree model](#f9)\n",
    "10. [The decision tree model with maximum depth of five](#f10)\n",
    "11. [The confusion matrix for the support vector machine model on the test dataset](#f11)\n",
    "12. [The confusion matrices for all models on the final test dataset](#f12)\n",
    "13. [The maps with marker-clusters for cases where pedestrian rights were not granted (a to d zoom level = 11, 13, 15, 17 respectively)](#f13)\n",
    "14. [The maps with marker-clusters for cases at intersection and under alcohol influence (a to d zoom level = 11, 13, 15, 17 respectively)](#f14)\n",
    "15. [The maps with marker-clusters for cases on mid-block, speeding, and under alcohol influence (a to d zoom level = 11, 13, 15, 17 respectively)](#f15)"
   ]
  },
  {
   "cell_type": "markdown",
   "metadata": {},
   "source": [
    "## <a name=\"1\"></a>1. Introduction [[ToC]](#ToC)"
   ]
  },
  {
   "cell_type": "markdown",
   "metadata": {},
   "source": [
    "### <a name=\"1.1\"></a>1.1. Background [[ToC]](#ToC)"
   ]
  },
  {
   "cell_type": "markdown",
   "metadata": {},
   "source": [
    "Government is the collective embodiment of its people. It is responsible for the well-being of its citizens. The government of Seattle city is not an exception. In order to serve and protect its citizen, the government plans, executes, and evaluates many public policies which directly and indirectly impact many parts of the life of its citizen. One of the policies is accident management.\n",
    "\n",
    "The main tasks of accident management are prevention and mitigation. Its goal is to reduce the severity and the number of potential accidents in future. But how? There are many prevention and mitigation strategies available. But which strategies to choose? And how to effectively plan and execute them? The power of data may help answer these questions. \n",
    "\n",
    "By gaining insight into a problem using data, we can gain valuable knowledge which helps us in planning, executing, and evaluating strategies to solve the problem. This is why collecting, documenting, and securely storing data are really important and can be valuable in long term. This is what the government of Seattle has sought since 2004. The government, through its Seattle Police Department, has been recording 194,673 cases of collision accidents in Seattle. This large number of data can be analysed and mined into valuable knowledge to help the government fulfill its vision towards zero collision accident in future."
   ]
  },
  {
   "cell_type": "markdown",
   "metadata": {},
   "source": [
    "### <a name=\"1.2\"></a>1.2. The Questions of Interest [[ToC]](#ToC)"
   ]
  },
  {
   "cell_type": "markdown",
   "metadata": {},
   "source": [
    "In order to gain valuable knowledge from the data, some questions need to be addressed and answered:\n",
    "1. What insight can be obtained from the data by exploratory data analysis and data visualization?\n",
    "2. Which classification model is best for predicting the severity status of an accident?"
   ]
  },
  {
   "cell_type": "markdown",
   "metadata": {},
   "source": [
    "## <a name=\"2\"></a>2. Data Quick Overview [[ToC]](#ToC)"
   ]
  },
  {
   "cell_type": "markdown",
   "metadata": {},
   "source": [
    "### <a name=\"2.1\"></a>2.1. Metadata [[ToC]](#ToC)"
   ]
  },
  {
   "cell_type": "markdown",
   "metadata": {},
   "source": [
    "- **Source**: [CognitiveClass](https://s3.us.cloud-object-storage.appdomain.cloud/cf-courses-data/CognitiveClass/DP0701EN/version-2/Data-Collisions.csv) ([Metadata](https://s3.us.cloud-object-storage.appdomain.cloud/cf-courses-data/CognitiveClass/DP0701EN/version-2/Metadata.pdf))\n",
    "- **Access date**: 25 September 2020\n",
    "- **Format**: Comma-separated values\n",
    "- **Size**: **194674 rows** (including the first row as the column headers) representing the observant and **38 columns** representing the features/attributes of the observant\n",
    "\n",
    "More detailed information about the data can be found in the metadata pdf file in the source."
   ]
  },
  {
   "cell_type": "markdown",
   "metadata": {},
   "source": [
    "### <a name=\"2.2\"></a>2.2. Data Description [[ToC]](#ToC)"
   ]
  },
  {
   "cell_type": "markdown",
   "metadata": {},
   "source": [
    "- The data is originally provided by the Seattle Police Department and recorded by the Traffic Records. A copy of the data file is stored and distributed as a learning material by the Cognitive Class organizing IBM Data Science online courses.\n",
    "- The data preserves records of collision accidents in Seattle, Washington from 2004 to 2020.\n",
    "- The information about each collision accident is recorded in a tabular format which includes information about the severity of the accident, the location coordinates, the weather and road condition, and some codes to simplify further details about the accident using a predefined code convention explained in the metadata PDF file.\n",
    "- The 194,673 accident records will be assessed using exploratory data analysis to gain insight into the accident statistics in Seattle, such as the correlation between the severity of the accidents and the other features of the accidents."
   ]
  },
  {
   "cell_type": "markdown",
   "metadata": {},
   "source": [
    "## <a name=\"3\"></a>3. Methodology [[ToC]](#ToC)"
   ]
  },
  {
   "cell_type": "markdown",
   "metadata": {},
   "source": [
    "### <a name=\"3.1\"></a>3.1. Data Preprocessing [[ToC]](#ToC)"
   ]
  },
  {
   "cell_type": "markdown",
   "metadata": {},
   "source": [
    "Before performing any exploratory data analysis techniques, the data is preprocessed first. The preprocessing steps consist of:\n",
    "* _data importing_\n",
    "\n",
    "    The data is imported into one of suitable formats which is, in this case, DataFrame of Pandas.\n",
    "\n",
    "* _data cleaning_\n",
    "\n",
    "    The data is cleaned from any invalid or missing values by replacing them with mean or median values and removing the entire row (entity) or column (feature) if there is too many invalid or missing values. The formats of the values for each feature are also checked and corrected to ensure that it is consistent and ready to be processed. \n",
    "\n",
    "For classification and clustering, additional two steps of the data preprocesing are performed: to choose which features to be analysed and to normalize the values of the chosen features. Further detail about the data preprocessing for classification processes is provided in the [section 3.3.1](#3.3.1)."
   ]
  },
  {
   "cell_type": "markdown",
   "metadata": {},
   "source": [
    "### <a name=\"3.2\"></a>3.2. Exploratory Data Analysis and Data Visualization [[ToC]](#ToC)"
   ]
  },
  {
   "cell_type": "markdown",
   "metadata": {},
   "source": [
    "The following is the list of the exploratory data analysis performed and discussed on the accident data:\n",
    "1. descriptive statistics,\n",
    "2. grouping data into categories:  \n",
    "    2.1. visualized using waffle charts,  \n",
    "    2.2. visualized using multiple-classes bar charts,  \n",
    "    2.3. visualized using time-series line charts,  \n",
    "3. ANOVA, and\n",
    "4. Correlation\n",
    "\n",
    "In the descriptive statistics analysis, the data is grouped by its features and the unique values of the grouped data are counted.\n",
    "\n",
    "Additionally, the accident data is visualized in interactive maps using Folium package. The interactive maps include:\n",
    "1. a marker-cluster map which shows the numbers of the accidents in 2019 grouped by the relative distance and the map-zooming level, and\n",
    "2. some choropleth maps which shows the numbers and the density of the accidents in 2009 and 2019 grouped by the district and neighborhood of Seattle."
   ]
  },
  {
   "cell_type": "markdown",
   "metadata": {},
   "source": [
    "### <a name=\"3.3\"></a>3.3. Accident Severity Classification [[ToC]](#ToC)"
   ]
  },
  {
   "cell_type": "markdown",
   "metadata": {},
   "source": [
    "#### <a name=\"3.3.1\"></a>3.3.1. Data Preprocessing for Classification [[ToC]](#ToC)"
   ]
  },
  {
   "cell_type": "markdown",
   "metadata": {},
   "source": [
    "The data is preprocessed with the following steps:\n",
    "1. *one hot encoding*, to convert any categorical features into binary value sets,\n",
    "2. *dataset choosing*, to choose the target classes and which years of the data are used to filter the training dataset,\n",
    "3. *data cleaning*, to manipulate invalid data by removing them (the rows with NaN data) from the dataset,\n",
    "4. *data balancing*, to balance the numbers of the positive and negative values of the target data,\n",
    "5. *standard scaling*, to scale the values of the dataset so that each feature has similar range of values, and\n",
    "6. *training-test set splitting*, to split the dataset into training and test set to enable hyperparametrization of the models."
   ]
  },
  {
   "cell_type": "markdown",
   "metadata": {},
   "source": [
    "The target classes of the classification models are the severity code (1: accident with property damage, 2: accident with human injury). There are 37 features included in the models:\n",
    "* 3 location types: \n",
    "    * alley, block, intersection\n",
    "* 6 junction types: \n",
    "    * at intersection (but not related to intersection), at intersection (intersection related), driveway junction, mid-block (but intersection related), mid-block (not related to intersection), ramp junction\n",
    "* if caused by inattention \n",
    "* if under alcohol influence\n",
    "* 9 weather conditions: \n",
    "    * blowing sand/dirt, clear, fog/smog/smoke, overcast, partly cloudy, raining, severe crosswind, sleet/hail/freezing rain, snowing\n",
    "* 7 road conditions:\n",
    "    * dry, ice, oil, sand/mud/dirt, snow/slush, standing water, wet\n",
    "* 7 lighting condition:\n",
    "    * no street lights, street lights off, street lights on, unknown lighting, dawn, daylight, dusk\n",
    "* if pedestrian rights are not granted\n",
    "* if speeding\n",
    "* if hit parked car"
   ]
  },
  {
   "cell_type": "markdown",
   "metadata": {},
   "source": [
    "For the training process, the dataset from Jan 2004 until Dec 2019 are used. Since the number of positive and negative values of the target classes are imbalance (without injury: 109375 cases, with injury: 54169 cases), we balance them by down-sampling the majority cases into 54169 cases which is equal to the number of the minority cases. The data is then splitted 80:20 as the training and test dataset. For the final evaluation, the models will be tested on the remaining dataset from Jan-May 2020."
   ]
  },
  {
   "cell_type": "markdown",
   "metadata": {},
   "source": [
    "#### <a name=\"3.3.2\"></a>3.3.2. Classification Models [[ToC]](#ToC)"
   ]
  },
  {
   "cell_type": "markdown",
   "metadata": {},
   "source": [
    "There are 4 classification models trained with the data to predict the severity of an accident:\n",
    "1. k-nearest neighbors (KNN),\n",
    "2. decision tree,\n",
    "3. support vector machine (SVM), and\n",
    "4. logistic regression.\n",
    "\n",
    "For KNN and decision tree, the hyperparameters _k_ in KNN and _maximum depth_ in decision tree are parameterized to get the best performing models on the test set."
   ]
  },
  {
   "cell_type": "markdown",
   "metadata": {},
   "source": [
    "#### <a name=\"3.3.3\"></a>3.3.3. Metrics for Model Evaluation [[ToC]](#ToC)"
   ]
  },
  {
   "cell_type": "markdown",
   "metadata": {},
   "source": [
    "For KNN and decision tree, the hyperparameters _k_ in KNN and _maximum depth_ in decision tree are parameterized by evaluating the Jaccard similarity indexes to get the best performing models on the test set. For the SVM model, confusion matrix is generated to visualize the precision and recall distribution. In the end, to compare the classification models' performance, the Jaccard similarity index, F1-score, and logistic loss are calculated. The logistic loss is only calculated for the logistic regression model.\n",
    "\n",
    "Jaccard similarity index is calculated by [(1)](#eq1), whereas F1 score is calculated by harmonic-averaging the precision score and the recall score as described in [(2.a-c)](#eq2). Log loss  is calculated by [(3)](#eq3) but only used for evaluating the logistic regression model.\n",
    "\n",
    "<a name=\"eq1\"></a>\n",
    "\\begin{equation}\\tag{1}\n",
    "    J(y,\\widehat{y})=\\frac{|y \\cap \\widehat{y}|}{|y \\cup \\widehat{y}|}\n",
    "\\end{equation}\n",
    "\n",
    "<a name=\"eq2\"></a>\n",
    "\\begin{equation}\\tag{2.a}\n",
    "    Precision = \\frac{True Positive}{True Positive + False Positive}\n",
    "\\end{equation}\n",
    "\n",
    "\\begin{equation}\\tag{2.b}\n",
    "    Recall = \\frac{True Positive}{True Positive + False Negative}\n",
    "\\end{equation}\n",
    "\n",
    "\\begin{equation}\\tag{2.c}\n",
    "    F_1 = \\frac{2 \\cdot Precision \\cdot Recall}{Precision + Recall}\n",
    "\\end{equation}\n",
    "\n",
    "<a name=\"eq3\"></a>\n",
    "\\begin{equation}\\tag{3}\n",
    "    LogLoss = -\\frac{1}{n}\\sum (y \\times log(\\hat{y}) + (1-y) \\times log(1-\\hat{y}))\n",
    "\\end{equation}"
   ]
  },
  {
   "cell_type": "markdown",
   "metadata": {},
   "source": [
    "## <a name=\"4\"></a>4. Results and Discussion [[ToC]](#ToC)"
   ]
  },
  {
   "cell_type": "markdown",
   "metadata": {},
   "source": [
    "### <a name=\"4.1\"></a>4.1. Exploratory Data Analysis [[ToC]](#ToC)"
   ]
  },
  {
   "cell_type": "markdown",
   "metadata": {},
   "source": [
    "#### <a name=\"4.1.1\"></a>4.1.1. Descriptive Statistics Analysis [[ToC]](#ToC)"
   ]
  },
  {
   "cell_type": "markdown",
   "metadata": {},
   "source": [
    "In the [Table 1](#t1), a summary of the descriptive statistics analysis of the data is provided. Only features containing integer or float dtypes are included. The first row represents the counts of the non-NaN data for each features. The rest represent the average, standard deviation, minimum, three quartiles, and maximum, respectively."
   ]
  },
  {
   "cell_type": "markdown",
   "metadata": {},
   "source": [
    " <a name=\"t1\"></a>  <div align=\"center\"> Table 1. descriptive statistics of integer and float dtypes features [[LoT]](#LoT) </div>"
   ]
  },
  {
   "cell_type": "markdown",
   "metadata": {},
   "source": [
    "| index   |   SEVERITYCODE |              X |              Y |   INTKEY |   PERSONCOUNT |       PEDCOUNT |    PEDCYLCOUNT |      VEHCOUNT |   SDOT_COLCODE_A |   SDOT_COLCODE_B |   SEGLANEKEY |    CROSSWALKKEY |\n",
    "|:--------|---------------:|---------------:|---------------:|---------:|--------------:|---------------:|---------------:|--------------:|-----------------:|-----------------:|-------------:|----------------:|\n",
    "| count   |  194673        | 189339         | 189339         |  65070   |  194673       | 194673         | 194673         | 194673        |    194673        |     194673       |   194673     | 194673          |\n",
    "| mean    |       1.2989   |   -122.331     |     47.6195    |  37558.5 |       2.44443 |      0.0371392 |      0.0283912 |      1.92078  |         1.25328  |          2.84164 |      269.401 |   9782.45       |\n",
    "| std     |       0.457778 |      0.0299761 |      0.0561566 |  51746   |       1.34593 |      0.19815   |      0.167413  |      0.631047 |         0.763915 |          2.21872 |     3315.78  |  72269.3        |\n",
    "| min     |       1        |   -122.419     |     47.4956    |  23807   |       0       |      0         |      0         |      0        |         0        |          0       |        0     |      0          |\n",
    "| 25%     |       1        |   -122.349     |     47.576     |  28667   |       2       |      0         |      0         |      2        |         1        |          1       |        0     |      0          |\n",
    "| 50%     |       1        |   -122.33      |     47.6154    |  29973   |       2       |      0         |      0         |      2        |         1        |          2       |        0     |      0          |\n",
    "| 75%     |       2        |   -122.312     |     47.6637    |  33973   |       3       |      0         |      0         |      2        |         1        |          4       |        0     |      0          |\n",
    "| max     |       2        |   -122.239     |     47.7341    | 757580   |      81       |      6         |      2         |     12        |         7        |          9       |   525241     |      5.2397e+06 |"
   ]
  },
  {
   "cell_type": "markdown",
   "metadata": {},
   "source": [
    "The output of this descriptive statistics analysis is a good quick overview of the available data. Some useful information that can be taken from this analysis are the average number of involved persons, pedestrians, cyclists, and vehicles.\n",
    "\n",
    "The average values of the coordinates (the longitude, X and the latitude, Y) don't give enough insights about the data. The coordinates are better to be visualized in a map. Some map visualizations of the data are available in [Section 4.1.5](#4.1.5). There are some data points that don't have coordinate data. In that case, the data points are excluded in the visualization.\n",
    "\n",
    "To gain more insightful information, the data about the accidents are categorized and visualized using waffle charts in the next section (see [Section 4.1.2](#4.1.2)). Further analysis using ANOVA and Correlation analysis are also provided in [Section 4.1.3](#4.1.3) and [Section 4.1.4](#4.1.4) respectively.\n",
    "\n"
   ]
  },
  {
   "cell_type": "markdown",
   "metadata": {},
   "source": [
    "#### <a name=\"4.1.2\"></a>4.1.2. Grouping Data into Categories [[ToC]](#ToC)"
   ]
  },
  {
   "cell_type": "markdown",
   "metadata": {},
   "source": [
    "For categorical features, useful insights can be extracted by summarizing and visualizing the data based on the counts of its unique values. Some categorical features are summarized in Table 2-3."
   ]
  },
  {
   "cell_type": "markdown",
   "metadata": {},
   "source": [
    " <a name=\"t2\"></a>  <div align=\"center\"> Table 2. The numbers of no injury (1) and with injury (2) accidents [[LoT]](#LoT) </div>"
   ]
  },
  {
   "cell_type": "markdown",
   "metadata": {},
   "source": [
    "|   index |   SEVERITYCODE |\n",
    "|--------:|---------------:|\n",
    "|       1 |         136485 |\n",
    "|       2 |          58188 |\n"
   ]
  },
  {
   "cell_type": "markdown",
   "metadata": {},
   "source": [
    " <a name=\"t3\"></a>  <div align=\"center\"> Table 3. The numbers of accidents based on the accident location type [[LoT]](#LoT) </div>"
   ]
  },
  {
   "cell_type": "markdown",
   "metadata": {},
   "source": [
    "| index        |   ADDRTYPE |\n",
    "|:-------------|-----------:|\n",
    "| Block        |     126926 |\n",
    "| Intersection |      65070 |\n",
    "| nan          |       1926 |\n",
    "| Alley        |        751 |"
   ]
  },
  {
   "cell_type": "markdown",
   "metadata": {},
   "source": [
    "#### <a name=\"4.1.3\"></a>4.1.3. Waffle Charts of Categorical Features [[ToC]](#ToC)"
   ]
  },
  {
   "cell_type": "markdown",
   "metadata": {},
   "source": [
    "The counts of unique values for other features can also be extracted, but the outputs are too exhaustive. A better way to present them is by visualizing them. One of interesting ways to visualize categorical data is using waffle chart. Unlike bar or pie chart, we could visualize the proportions of data categories using symbolic images. This method helps the readers getting the information about the proportions and the categories each of them represents at the same time.\n",
    "\n",
    "In Figure 1 (a-g), the waffle charts for seven categorical features are presented. Each waffle chart is visualized by 5x20 blocks of symbols. Each block represents about 1% of the total proportions of the feature. Exact numbers inside the parentheses in each legend represent the number of the unique value of each category."
   ]
  },
  {
   "cell_type": "markdown",
   "metadata": {},
   "source": [
    "<a name=\"f1\"></a>\n",
    "<p float=\"left\">\n",
    "  (a)<img src=\"https://raw.githubusercontent.com/ihsanazulkarnain/SeattleCollisions/master/img/waffle_severity.png\" width=\"500\" style=\"vertical-align: top;\" figcaption=\"test\" /> \n",
    "  (b)<img src=\"https://raw.githubusercontent.com/ihsanazulkarnain/SeattleCollisions/master/img/waffle_location.png\" width=\"500\" style=\"vertical-align: top;\" /> \n",
    "</p>\n",
    "<p float=\"left\">\n",
    "  (c)<img src=\"https://raw.githubusercontent.com/ihsanazulkarnain/SeattleCollisions/master/img/waffle_collision.png\" width=\"500\" style=\"vertical-align: top;\" />\n",
    "  (d)<img src=\"https://raw.githubusercontent.com/ihsanazulkarnain/SeattleCollisions/master/img/waffle_junction.png\" width=\"500\" style=\"vertical-align: top;\" />\n",
    "</p>\n",
    "<p float=\"left\">\n",
    "  (e)<img src=\"https://raw.githubusercontent.com/ihsanazulkarnain/SeattleCollisions/master/img/waffle_weather.png\" width=\"500\" style=\"vertical-align: top;\" />\n",
    "  (f)<img src=\"https://raw.githubusercontent.com/ihsanazulkarnain/SeattleCollisions/master/img/waffle_road.png\" width=\"500\" style=\"vertical-align: top;\" />\n",
    "</p>\n",
    "<p float=\"left\">\n",
    "  (g)<img src=\"https://raw.githubusercontent.com/ihsanazulkarnain/SeattleCollisions/master/img/waffle_lighting.png\" width=\"500\" style=\"vertical-align: top;\" />\n",
    "</p>"
   ]
  },
  {
   "cell_type": "markdown",
   "metadata": {},
   "source": [
    "Figure 1. The waffle charts for seven data features [[LoF]](#LoF)"
   ]
  },
  {
   "cell_type": "markdown",
   "metadata": {},
   "source": [
    "Based on Figure 1, we could summarize that most of the cases are dominated by the accidents without any human injuries (up to 60%), on a street block (up to 65%), involved a parked car (up to 25%), on mid-block (up to 46%), during clear weather (up to 57%), on dry road (up to 64%), and during daylight (up to 60%). Unfortunately, some of the unique values in these categorical features can not be compared directly as it is more proper to normalize it into a fair scale, e.g. numbers of accidents on clear weather vs raining can only be compared after dividing the number with the ratio of the frequency of clear weather vs raining in the range of the time. However, this issue is out of the scope of this article and may be covered in future project."
   ]
  },
  {
   "cell_type": "markdown",
   "metadata": {},
   "source": [
    "#### <a name=\"4.1.4\"></a>4.1.4. Weather and Road Condition Effects on the Number and the Severity of the Accidents [[ToC]](#ToC)"
   ]
  },
  {
   "cell_type": "markdown",
   "metadata": {},
   "source": [
    "Although the waffle charts are visually interesting, it is not the best choice to show multiple categorical data at once. For that purpose, we use multiple colored bar charts. [Figure 2 (a-b)](#f2) show the numbers of accidents grouped by weather/road condition and severity at the same time on each chart. In order to also show the low numbers of the minority cases, the charts are also presented in logistic scale as shown in [Figure 2 (c-d)](#f2c)."
   ]
  },
  {
   "cell_type": "markdown",
   "metadata": {},
   "source": [
    "<a name=\"f2\"></a>\n",
    "<p float=\"left\">\n",
    "  (a)<img src=\"https://raw.githubusercontent.com/ihsanazulkarnain/SeattleCollisions/master/img/numbers_weather.png\" width=\"600\" style=\"vertical-align: top;\" /> \n",
    "  (b)<img src=\"https://raw.githubusercontent.com/ihsanazulkarnain/SeattleCollisions/master/img/numbers_road.png\" width=\"600\" style=\"vertical-align: top;\" /> \n",
    "</p>\n",
    "<p float=\"left\">\n",
    "  (c)<img src=\"https://raw.githubusercontent.com/ihsanazulkarnain/SeattleCollisions/master/img/numbers_weather_log.png\" width=\"600\" style=\"vertical-align: top;\" />\n",
    "  (d)<img src=\"https://raw.githubusercontent.com/ihsanazulkarnain/SeattleCollisions/master/img/numbers_road_log.png\" width=\"600\" style=\"vertical-align: top;\" />\n",
    "</p>"
   ]
  },
  {
   "cell_type": "markdown",
   "metadata": {},
   "source": [
    "Figure 2. The numbers of accidents by weather/road condition and its severity [[LoF]](#LoF)"
   ]
  },
  {
   "cell_type": "markdown",
   "metadata": {},
   "source": [
    "It has been shown in the waffle charts that most of the accidents happened during clear weather and on dry road. Based on these bar charts, we get more insights about how often accidents that happened on a certain weather and road condition resulted in human injuries. Despite of the facts mentioned before, the accidents that happened during raining weather or on wet road has a slightly higher probability of resulting in injury (33.2%-33.7%) compared to the accidents that happened during clear weather or on dry road (around 32.2%)"
   ]
  },
  {
   "cell_type": "markdown",
   "metadata": {},
   "source": [
    "#### <a name=\"4.1.5\"></a>4.1.5. Time-Series Data [[ToC]](#ToC)"
   ]
  },
  {
   "cell_type": "markdown",
   "metadata": {},
   "source": [
    "It is also interesting to visualize the data into time-series format. In [Figure 3](#f3), the data is grouped into monthly and quarterly numbers of the accidents from January 2004 to May 2020. The accident numbers are also categorized by its severity. The percentage of accidents with injury is also presented and projected to the secondary axis of the charts."
   ]
  },
  {
   "cell_type": "markdown",
   "metadata": {},
   "source": [
    "<a name=\"f3\"></a>\n",
    "<p float=\"left\">\n",
    "  (a)<img src=\"https://raw.githubusercontent.com/ihsanazulkarnain/SeattleCollisions/master/img/numbers_monthly.png\" width=\"600\" style=\"vertical-align: top;\" /> \n",
    "  (b)<img src=\"https://raw.githubusercontent.com/ihsanazulkarnain/SeattleCollisions/master/img/numbers_quarterly.png\" width=\"600\" style=\"vertical-align: top;\" />\n",
    "</p>"
   ]
  },
  {
   "cell_type": "markdown",
   "metadata": {},
   "source": [
    "Figure 3. The time-series data of the monthly (a) and quarterly (b) numbers of accidents [[LoF]](#LoF)"
   ]
  },
  {
   "cell_type": "markdown",
   "metadata": {},
   "source": [
    "Time-series data is useful to gain insights about the trends of the data over time. Figure 3 shows that there is a slight declining trend of the numbers of the accidents. There is even a significant decrease on the second quarter of 2020 because of the lockdown policy across the globe during Covid-19 pandemic."
   ]
  },
  {
   "cell_type": "markdown",
   "metadata": {},
   "source": [
    "#### <a name=\"4.1.6\"></a>4.1.6. Analysis of Variance (ANOVA) [[ToC]](#ToC)"
   ]
  },
  {
   "cell_type": "markdown",
   "metadata": {},
   "source": [
    "The analysis of variance (ANOVA) of the accident severity is performed on some features of weather: Clear, Raining, and Overcast.  Here are the summary of the ANOVA results (higher F-value is better, lower P-value is better):\n",
    "* ANOVA of the accident severity between clear, raining, and overcast results: F= 18.236826341147676 , P = 1.2041667644621963e-08\n",
    "* ANOVA of the accident severity between clear and raining results: F= 25.09876170660936 , P = 5.453197502895751e-07\n",
    "* ANOVA of the accident severity between clear and overcast results: F= 4.909741750003867 , P = 0.026707249184972547\n",
    "* ANOVA of the accident severity between raining and overcast results: F= 32.11870221519134 , P = 1.4568807019555952e-08\n"
   ]
  },
  {
   "cell_type": "markdown",
   "metadata": {},
   "source": [
    "These results indicate that it is quite likely that the accident severity has a correlation with the weather during the accident. However, for the low variance between the accident severity of accident during clear weather and overcast, it could indicate that these two weather types lead to similar probabilities of a certain accident severity. In this case, it could also be an option to combine the clear and overcast data into one feature, but it is out of the scope of this article."
   ]
  },
  {
   "cell_type": "markdown",
   "metadata": {},
   "source": [
    "#### <a name=\"4.1.7\"></a>4.1.7. Correlation Analysis [[ToC]](#ToC)"
   ]
  },
  {
   "cell_type": "markdown",
   "metadata": {},
   "source": [
    "A correlation analysis between the accident severity and the features of weather. The correlation coefficients between each feature are calculated and compiled as a heat map as shown in [Figure 4](#f4). However, this result of correlation analysis is still raw as there are too many other features that are neglected in the analysis. A more robust correlation analysis of categorical features can be done by building classification models which is a part of [Section 4.2](#4.2)."
   ]
  },
  {
   "cell_type": "markdown",
   "metadata": {},
   "source": [
    "<a name=\"f4\"></a>\n",
    "<p float=\"left\">\n",
    "  <img src=\"https://raw.githubusercontent.com/ihsanazulkarnain/SeattleCollisions/master/img/corr_weather_heatmap.png\" width=\"600\" style=\"vertical-align: top;\" /> \n",
    "</p>"
   ]
  },
  {
   "cell_type": "markdown",
   "metadata": {},
   "source": [
    "Figure 4. The heatmap of the correlation among the accident severity and the features of weather [[LoF]](#LoF)"
   ]
  },
  {
   "cell_type": "markdown",
   "metadata": {},
   "source": [
    "#### <a name=\"4.1.8\"></a>4.1.8. Map Visualization [[ToC]](#ToC)"
   ]
  },
  {
   "cell_type": "markdown",
   "metadata": {},
   "source": [
    "Since the dataset also records the longitude (X), the latitude (Y), and the date of each accident, it is possible to present the data using map visualization. By using map visualization, we could gain insights which location need more attention so that policy making can plan, execute, and evaluate its policy more effectively. \n",
    "\n",
    "The numbers of accidents (excluding the cases without XY data) between 2004-2020 are grouped by its district (see [Table 4](#t4))  and visualized using choropleth map (see [Figure 5](#f5)). The geojson data of Seattle districts is taken from [github.com/seattleio/seattle-boundaries-data](https://github.com/seattleio/seattle-boundaries-data/blob/master/data/city-council-districts.geojson)."
   ]
  },
  {
   "cell_type": "markdown",
   "metadata": {},
   "source": [
    " <a name=\"t4\"></a>  <div align=\"center\"> Table 4. The numbers of accidents between 2004-2020 by district [[LoT]](#LoT) </div>"
   ]
  },
  {
   "cell_type": "markdown",
   "metadata": {},
   "source": [
    "| District        |   Number of Cases |\n",
    "|-----------:|---------------:|\n",
    "|          2 |          39198 |\n",
    "|          7 |          37047 |\n",
    "|          3 |          30195 |\n",
    "|          6 |          21235 |\n",
    "|          1 |          20276 |\n",
    "|          4 |          20274 |\n",
    "|          5 |          19832 |\n"
   ]
  },
  {
   "cell_type": "markdown",
   "metadata": {},
   "source": [
    "<a name=\"f5\"></a>\n",
    "<p float=\"left\">\n",
    "  (a)<img src=\"https://upload.wikimedia.org/wikipedia/commons/c/c3/Seattle_City_Council_District_map.png\" width=\"300\" style=\"vertical-align: top;\" />  \n",
    "  (b)<img src=\"https://raw.githubusercontent.com/ihsanazulkarnain/SeattleCollisions/master/img/map_by_district.png\" width=\"600\" style=\"vertical-align: top;\" />  \n",
    "</p>"
   ]
  },
  {
   "cell_type": "markdown",
   "metadata": {},
   "source": [
    "Figure 5. The choropleth map of the numbers of accidents by its district (a: district number from WikiMedia, b: choropleth map) [[LoF]](#LoF)"
   ]
  },
  {
   "cell_type": "markdown",
   "metadata": {},
   "source": [
    "_Acknowledgement: Figure 6(a) is credited to Dennis Bratland / CC BY-SA (https://creativecommons.org/licenses/by-sa/4.0)_"
   ]
  },
  {
   "cell_type": "markdown",
   "metadata": {},
   "source": [
    "In order to be more precise, the numbers of cases distribution can also be grouped by its neighborhood as visualized in [Figure 6](#f6). The geojson data of Seattle neighborhoods is taken from [github.com/seattleio/seattle-boundaries-data](https://github.com/seattleio/seattle-boundaries-data/blob/master/data/city-council-districts.geojson)."
   ]
  },
  {
   "cell_type": "markdown",
   "metadata": {},
   "source": [
    "<a name=\"f6\"></a>\n",
    "<p float=\"left\">\n",
    "  (a)<img src=\"https://raw.githubusercontent.com/ihsanazulkarnain/SeattleCollisions/master/img/map_by_neighborhood_2009.png\" width=\"500\" style=\"vertical-align: top;\" />  \n",
    "  (b)<img src=\"https://raw.githubusercontent.com/ihsanazulkarnain/SeattleCollisions/master/img/map_by_neighborhood_2019.png\" width=\"500\" style=\"vertical-align: top;\" />  \n",
    "</p>"
   ]
  },
  {
   "cell_type": "markdown",
   "metadata": {},
   "source": [
    "Figure 6. The choropleth map of the numbers of accidents by its neighborhood (a: 2009, b: 2019) [[LoF]](#LoF)"
   ]
  },
  {
   "cell_type": "markdown",
   "metadata": {},
   "source": [
    "Based on the number of cases per year, Belltown has the highest number in 2009 with 539 cases but then reduced to 394 cases in 2019. Industrial district has 457 cases in 2009 but then increased to 500 cases in 2019. However, comparing the numbers of cases between neighborhood directly is unfair as each neighborhood has its own traffic number or traffic density."
   ]
  },
  {
   "cell_type": "markdown",
   "metadata": {},
   "source": [
    "Besides normalized by its traffic density (whose data might be not easily obtained), the numbers of cases can also be normalized by its neighborhood area. The area of each neighborhood is provided in the geojson data of Seattle neighborhoods. The numbers of cases per neighborhood area are visualized in [Figure 7](#f7)."
   ]
  },
  {
   "cell_type": "markdown",
   "metadata": {},
   "source": [
    "<a name=\"f7\"></a>\n",
    "<p float=\"left\">\n",
    "  (a)<img src=\"https://raw.githubusercontent.com/ihsanazulkarnain/SeattleCollisions/master/img/map_density_by_neighborhood_2009.png\" width=\"500\" style=\"vertical-align: top;\" />  \n",
    "  (b)<img src=\"https://raw.githubusercontent.com/ihsanazulkarnain/SeattleCollisions/master/img/map_density_by_neighborhood_2019.png\" width=\"500\" style=\"vertical-align: top;\" />  \n",
    "</p>"
   ]
  },
  {
   "cell_type": "markdown",
   "metadata": {},
   "source": [
    "Figure 7. The choropleth map of the numbers of accidents per neighborhood area (a: 2009, b: 2019) [[LoF]](#LoF)"
   ]
  },
  {
   "cell_type": "markdown",
   "metadata": {},
   "source": [
    "Based on the density of cases per year, Central Business District has the highest density in 2009 and 2019 with 45.3 and 43.7 cases per km2 per year, respectively. It is shown that some neighborhoods have slightly reduced its number or density of cases from 2009 to 2019."
   ]
  },
  {
   "cell_type": "markdown",
   "metadata": {},
   "source": [
    "From these map visualizations, there are many findings that may help the Seattle Government make its policy and execute traffic law enforcement in effective way by prioritizing which locations that need more attention. "
   ]
  },
  {
   "cell_type": "markdown",
   "metadata": {},
   "source": [
    "### <a name=\"4.2\"></a>4.2. Accident Severity Classification [[ToC]](#ToC)"
   ]
  },
  {
   "cell_type": "markdown",
   "metadata": {},
   "source": [
    "In order to help the Seattle government in planning, executing, and evaluating its policy in decreasing the number and the severity of accidents, it's recommended to build classification models for predicting the severity of an accident based on several features. This could help the government make a priority in preventing any severe accidents based on some most frequent features that could lead to the accident."
   ]
  },
  {
   "cell_type": "markdown",
   "metadata": {},
   "source": [
    "#### <a name=\"4.2.1\"></a>4.2.1. K-Nearest Neighbors (KNN) [[ToC]](#ToC)"
   ]
  },
  {
   "cell_type": "markdown",
   "metadata": {},
   "source": [
    "In the K-Nearest Neighbors model, the target classes (accident severity) are predicted by sampling k number of nearest neighbors in the existing data and picking the majority class of the sample as the predicted target class. The value k is the hyperparameter which can be adjusted and tested which value results in higher classification accuracy. [Figure 8](#f8) shows the model accuracies for various value of k. It is shown that k=9 leads to the highest KNN model accuracy with 0.583 Jaccard similarity index on the test set."
   ]
  },
  {
   "cell_type": "markdown",
   "metadata": {},
   "source": [
    "<a name=\"f8\"></a>\n",
    "<p float=\"left\">\n",
    "  <img src=\"https://raw.githubusercontent.com/ihsanazulkarnain/SeattleCollisions/master/img/accuracy_KNN.png\" width=\"500\" style=\"vertical-align: top;\" /> \n",
    "</p>"
   ]
  },
  {
   "cell_type": "markdown",
   "metadata": {},
   "source": [
    "Figure 8. The Jaccard similarity scores for various values of k in the KNN model [[LoF]](#LoF)"
   ]
  },
  {
   "cell_type": "markdown",
   "metadata": {},
   "source": [
    "#### <a name=\"4.2.2\"></a>4.2.2. Decision Tree [[ToC]](#ToC)"
   ]
  },
  {
   "cell_type": "markdown",
   "metadata": {},
   "source": [
    "In the decision tree model, the target classes (accident severity) are predicted by building a top-down hierarchical tree which split the data based on a threshold to a certain value of a feature that leads to a lower total entropy of the data classification. The value maximum depth is the hyperparameter which can be adjusted and tested which value results in higher classification accuracy. [Figure 9](#f9) shows the model accuracies for various value of maximum depth."
   ]
  },
  {
   "cell_type": "markdown",
   "metadata": {},
   "source": [
    "<a name=\"f9\"></a>\n",
    "<p float=\"left\">\n",
    "  <img src=\"https://raw.githubusercontent.com/ihsanazulkarnain/SeattleCollisions/master/img/accuracy_decision_tree.png\" width=\"500\" style=\"vertical-align: top;\" /> \n",
    "</p>"
   ]
  },
  {
   "cell_type": "markdown",
   "metadata": {},
   "source": [
    "Figure 9. The Jaccard similarity scores for various values of maximum depth in the decision tree model [[LoF]](#LoF)"
   ]
  },
  {
   "cell_type": "markdown",
   "metadata": {},
   "source": [
    "It is shown that maximum depth=5 leads to the highest decision tree model accuracy with 0.599 Jaccard similarity index on the test set. The hierarchy of the decision tree with maximum depth of five is shown in [Figure 10](#f10). The boxes with blue color represent the data classified as accidents with injury, whereas red color as accidents without injury. The sharper the color of the box is, the lower the entropy of the data is."
   ]
  },
  {
   "cell_type": "markdown",
   "metadata": {},
   "source": [
    "<a name=\"f10\"></a>\n",
    "<p float=\"left\">\n",
    "  <img src=\"https://raw.githubusercontent.com/ihsanazulkarnain/SeattleCollisions/master/img/drugtree_depth_5.png\" width=\"99%\" style=\"vertical-align: top;\" /> \n",
    "</p>"
   ]
  },
  {
   "cell_type": "markdown",
   "metadata": {},
   "source": [
    "Figure 10. The decision tree model with maximum depth of five [[LoF]](#LoF)"
   ]
  },
  {
   "cell_type": "markdown",
   "metadata": {},
   "source": [
    "#### <a name=\"4.2.3\"></a>4.2.3. Support Vector Machine (SVM) [[ToC]](#ToC)"
   ]
  },
  {
   "cell_type": "markdown",
   "metadata": {},
   "source": [
    "In the SVM model, the target classes (accident severity) are predicted by creating a linear or non-linear line which separates two regions of different classes in a high-dimensional feature space. The kernelling used in the model is radial basis function (RBF). No hyperparameter of the SVM model is adjusted. The numbers of the true and the predicted positive and negative values are illustrated in the confusion matrix as shown in [Figure 11](#f11). The SVM model has accuracy of 0.598 Jaccard similarity index on the test set."
   ]
  },
  {
   "cell_type": "markdown",
   "metadata": {},
   "source": [
    "<a name=\"f11\"></a>\n",
    "<p float=\"left\">\n",
    "  <img src=\"https://raw.githubusercontent.com/ihsanazulkarnain/SeattleCollisions/master/img/confusion_matrix.png\" width=\"500\" style=\"vertical-align: top;\" /> \n",
    "</p>"
   ]
  },
  {
   "cell_type": "markdown",
   "metadata": {},
   "source": [
    "Figure 11. The confusion matrix for the support vector machine model on the test dataset [[LoF]](#LoF)"
   ]
  },
  {
   "cell_type": "markdown",
   "metadata": {},
   "source": [
    "#### <a name=\"4.2.4\"></a>4.2.4. Logistic Regression [[ToC]](#ToC)"
   ]
  },
  {
   "cell_type": "markdown",
   "metadata": {},
   "source": [
    "In the logistic regression model, the target classes (accident severity) are predicted by estimating the probability of a target class using a sigmoid or logistic function. The parameters of the sigmoid function are parameterized to minimize the cost function which represent the loss of classification accuracy. The changes of the parameters in the iterative process are regularized by penalizing large magnitude of changes. The strength of the regularization is represented by the inverse regularization factor, C. The lower value of C, the stronger the regularization is. In this article, we only use one value of inverse regularization factor, C=0.1. This logistic regression model has accuracy of 0.599 Jaccard similarity index on the test set."
   ]
  },
  {
   "cell_type": "markdown",
   "metadata": {},
   "source": [
    "#### <a name=\"4.2.5\"></a>4.2.5. Model Evaluation using the Dataset of 2020 [[ToC]](#ToC)"
   ]
  },
  {
   "cell_type": "markdown",
   "metadata": {},
   "source": [
    "In the final stage of the classification model building process, the models are evaluated against an unseen test dataset. This time, we pick the dataset from Jan-May 2020 as the final test dataset. The dataset consists of 1182 data points with 808 cases of accidents without injury and 374 cases of accidents with injury. The evaluation metrics assessed are F1-score, Jaccard similarity index, and log loss as summarized in [Table 5](#t5).\n",
    "\n"
   ]
  },
  {
   "cell_type": "markdown",
   "metadata": {},
   "source": [
    " <a name=\"t5\"></a>  <div align=\"center\"> Table 5. The evaluation metrics for each classification model [[LoT]](#LoT) </div>"
   ]
  },
  {
   "cell_type": "markdown",
   "metadata": {},
   "source": [
    "| index               |   F1 score |   Jaccard similarity index |         Log loss |\n",
    "|:--------------------|-----------:|---------------------------:|-----------------:|\n",
    "| KNN                 |   0.522397 |                   0.506768 |       nan        |\n",
    "| Decision Tree       |   0.632704 |                   0.620135 |       nan        |\n",
    "| SVM                 |   0.63095  |                   0.618443 |       nan        |\n",
    "| Logistic Regression |   0.621832 |                   0.608291 |         0.651837 |"
   ]
  },
  {
   "cell_type": "markdown",
   "metadata": {},
   "source": [
    "Based on its F1 score and Jaccard similarity index, the decision tree model performs best compared to the others. In order to visualize the evaluation metrics, the confusion matrices for each model are presented in [Figure 12](#f12). Since the number of postive and negative target values are imbalanced, it seems that all models return low precision scores. In this case, it is recommended to use F1 score as the evaluation metric for classification with imbalanced target dataset."
   ]
  },
  {
   "cell_type": "markdown",
   "metadata": {},
   "source": [
    "<a name=\"f12\"></a>\n",
    "<p float=\"left\">\n",
    "  (a)<img src=\"https://raw.githubusercontent.com/ihsanazulkarnain/SeattleCollisions/master/img/confusion_matrix_KNN_final.png\" width=\"500\" style=\"vertical-align: top;\" /> \n",
    "  (b)<img src=\"https://raw.githubusercontent.com/ihsanazulkarnain/SeattleCollisions/master/img/confusion_matrix_DT_final.png\" width=\"500\" style=\"vertical-align: top;\" /> \n",
    "</p>\n",
    "<p float=\"left\">\n",
    "  (c)<img src=\"https://raw.githubusercontent.com/ihsanazulkarnain/SeattleCollisions/master/img/confusion_matrix_SVM_final.png\" width=\"500\" style=\"vertical-align: top;\" /> \n",
    "  (d)<img src=\"https://raw.githubusercontent.com/ihsanazulkarnain/SeattleCollisions/master/img/confusion_matrix_LR_final.png\" width=\"500\" style=\"vertical-align: top;\" /> \n",
    "</p>"
   ]
  },
  {
   "cell_type": "markdown",
   "metadata": {},
   "source": [
    "Figure 12. The confusion matrices for all models on the final test dataset [[LoF]](#LoF)"
   ]
  },
  {
   "cell_type": "markdown",
   "metadata": {},
   "source": [
    "#### <a name=\"4.2.6\"></a>4.2.6. The Significant Features Leading to Accidents with Injury based on the Classification Model [[ToC]](#ToC)"
   ]
  },
  {
   "cell_type": "markdown",
   "metadata": {},
   "source": [
    "It has been shown that the decision tree model performs best in classifying accidents by its severity based on several features. In this section, we are going to discuss about the significant features which lead to accidents with injury based on the decision tree model.\n",
    "\n",
    "In [Figure 6], we find that the first branch of the decision tree is the feature of PEDROWNOTGRNT which according to the metadata pdf file refers to the fact if pedestrian rights were not granted. Since the values of the features are standard-scaled, the binary values of 0 or 1 are scaled slightly, e.g. in case of PEDROWNOTGRNT, the values of 0 and 1 are converted into -0.201025 and 4.974507, respectively. Thus, the criteria \"PEDROWNOTGRNT ≤ 2.387\" is equivalent to \"is Pedestrian rights were granted?\". Branching to the left means the criteria is true, whereas branching to the right means the criteria is false. A box with sharp blue color on the right side after the first branch means that this feature significantly classify the cases where pedestrian rights were not granted as the cases with injury. This finding could be an encouragement for the Seattle government to enforce the traffic laws on putting pedestrian rights as priority to minimize accidents with injury.\n",
    "\n",
    "There is no other single significant feature, but rather there are some combinations of features that lead to accident with injuries. Here are the list sorted by its entropy in ascending order (lower entropy means more accurate classification):\n",
    "* (Entropy: 0.269) Pedestrian rights were not granted: True\n",
    "* (Entropy: 0.907) Junction: At intersection; Under alcohol influence: True\n",
    "* (Entropy: 0.951) Junction: Mid-block; Hit parked car: False; Speeding: True; Under alcohol influence: True\n",
    "\n",
    "Based on this finding, we could add the features of under alcohol influence and of speeding as the other significant features that lead to accidents with injury besides the feature of the pedestrian rights were not granted. The cases with those combinations of features can be visualized in maps with marker-clusters as presented in [Figure 13](#f13), [14](#f14), and [15](#f15). These maps can be used strategically as references for the authority to choose which locations are to be put as the priority in the next policy making or law enforcement by the government."
   ]
  },
  {
   "cell_type": "markdown",
   "metadata": {},
   "source": [
    "<a name=\"f13\"></a>\n",
    "<p float=\"left\">\n",
    "  (a)<img src=\"https://raw.githubusercontent.com/ihsanazulkarnain/SeattleCollisions/master/img/map_markercluster_pedrownotgrnt_zoom11.png\" width=\"600\" style=\"vertical-align: top;\" /> \n",
    "  (b)<img src=\"https://raw.githubusercontent.com/ihsanazulkarnain/SeattleCollisions/master/img/map_markercluster_pedrownotgrnt_zoom13.png\" width=\"600\" style=\"vertical-align: top;\" /> \n",
    "</p>\n",
    "<p float=\"left\">\n",
    "  (c)<img src=\"https://raw.githubusercontent.com/ihsanazulkarnain/SeattleCollisions/master/img/map_markercluster_pedrownotgrnt_zoom15.png\" width=\"600\" style=\"vertical-align: top;\" /> \n",
    "  (d)<img src=\"https://raw.githubusercontent.com/ihsanazulkarnain/SeattleCollisions/master/img/map_markercluster_pedrownotgrnt_zoom17.png\" width=\"600\" style=\"vertical-align: top;\" /> \n",
    "</p>"
   ]
  },
  {
   "cell_type": "markdown",
   "metadata": {},
   "source": [
    "Figure 13. The maps with marker-clusters for cases where pedestrian rights were not granted (a to d zoom level = 11, 13, 15, 17 respectively) [[LoF]](#LoF)"
   ]
  },
  {
   "cell_type": "markdown",
   "metadata": {},
   "source": [
    "<a name=\"f14\"></a>\n",
    "<p float=\"left\">\n",
    "  (a)<img src=\"https://raw.githubusercontent.com/ihsanazulkarnain/SeattleCollisions/master/img/map_markercluster_intersectinfl_zoom11.png\" width=\"600\" style=\"vertical-align: top;\" /> \n",
    "  (b)<img src=\"https://raw.githubusercontent.com/ihsanazulkarnain/SeattleCollisions/master/img/map_markercluster_intersectinfl_zoom13.png\" width=\"600\" style=\"vertical-align: top;\" /> \n",
    "</p>\n",
    "<p float=\"left\">\n",
    "  (c)<img src=\"https://raw.githubusercontent.com/ihsanazulkarnain/SeattleCollisions/master/img/map_markercluster_intersectinfl_zoom15.png\" width=\"600\" style=\"vertical-align: top;\" /> \n",
    "  (d)<img src=\"https://raw.githubusercontent.com/ihsanazulkarnain/SeattleCollisions/master/img/map_markercluster_intersectinfl_zoom17.png\" width=\"600\" style=\"vertical-align: top;\" /> \n",
    "</p>"
   ]
  },
  {
   "cell_type": "markdown",
   "metadata": {},
   "source": [
    "Figure 14. The maps with marker-clusters for cases at intersection and under alcohol influence (a to d zoom level = 11, 13, 15, 17 respectively) [[LoF]](#LoF)"
   ]
  },
  {
   "cell_type": "markdown",
   "metadata": {},
   "source": [
    "<a name=\"f15\"></a>\n",
    "<p float=\"left\">\n",
    "  (a)<img src=\"https://raw.githubusercontent.com/ihsanazulkarnain/SeattleCollisions/master/img/map_markercluster_midbspeedinfl_zoom11.png\" width=\"600\" style=\"vertical-align: top;\" /> \n",
    "  (b)<img src=\"https://raw.githubusercontent.com/ihsanazulkarnain/SeattleCollisions/master/img/map_markercluster_midbspeedinfl_zoom13.png\" width=\"600\" style=\"vertical-align: top;\" /> \n",
    "</p>\n",
    "<p float=\"left\">\n",
    "  (c)<img src=\"https://raw.githubusercontent.com/ihsanazulkarnain/SeattleCollisions/master/img/map_markercluster_midbspeedinfl_zoom15.png\" width=\"600\" style=\"vertical-align: top;\" /> \n",
    "  (d)<img src=\"https://raw.githubusercontent.com/ihsanazulkarnain/SeattleCollisions/master/img/map_markercluster_midbspeedinfl_zoom17.png\" width=\"600\" style=\"vertical-align: top;\" /> \n",
    "</p>"
   ]
  },
  {
   "cell_type": "markdown",
   "metadata": {},
   "source": [
    "Figure 15. The maps with marker-clusters for cases on mid-block, speeding, and under alcohol influence (a to d zoom level = 11, 13, 15, 17 respectively) [[LoF]](#LoF)"
   ]
  },
  {
   "cell_type": "markdown",
   "metadata": {},
   "source": [
    "## <a name=\"5\"></a>5. Conclusion and Remarks [[ToC]](#ToC)"
   ]
  },
  {
   "cell_type": "markdown",
   "metadata": {},
   "source": [
    "In this article, some exploratory data analyses have been done and classification models have been trained on a dataset containing 194,673 accident cases in Seattle from Jan 2004 to May 2020. From the exploratory data analyses, some insights have been gained. Some of them are:\n",
    "* the accidents that happened during raining weather or on wet road has a slightly higher probability of resulting in injury (33.2%-33.7%) compared to the accidents that happened during clear weather or on dry road (around 32.2%);\n",
    "* there is a significant decrease of numbers of accidents on the second quarter of 2020 because of the lockdown policy across the globe Covid-19 pandemic;\n",
    "* it is quite likely that the accident severity has a correlation with the weather during the accident;\n",
    "* Belltown has the highest number in 2009 with 539 cases but then reduced to 394 cases in 2019;\n",
    "* The industrial district has 457 cases in 2009 but then increased to 500 cases in 2019;\n",
    "* Central Business District has the highest number of cases per area in 2009 and 2019 with 45.3 and 43.7 cases per km2 per year, respectively. \n",
    "* Some neighborhoods have slightly reduced its number or density of cases from 2009 to 2019."
   ]
  },
  {
   "cell_type": "markdown",
   "metadata": {},
   "source": [
    "From four classification model trained, the decision tree model perform best. Based on the decision tree model, we gain insights about some significant features that lead to accidents with injury. Those are: when the pedestrian rights were not granted, and/or speeding, and/or under alcohol influence."
   ]
  },
  {
   "cell_type": "markdown",
   "metadata": {},
   "source": [
    "There are still some assumptions, limitations, and issues that have not been addressed in or are out of the scope of this article. There are also still many alternative options of classification models available. So, any interested readers are encouraged to improve the works presented here and to help the Seattle government fulfill its missions towards zero collision accident in future."
   ]
  }
 ],
 "metadata": {
  "kernelspec": {
   "display_name": "juplab",
   "language": "python",
   "name": "juplab"
  },
  "language_info": {
   "codemirror_mode": {
    "name": "ipython",
    "version": 3
   },
   "file_extension": ".py",
   "mimetype": "text/x-python",
   "name": "python",
   "nbconvert_exporter": "python",
   "pygments_lexer": "ipython3",
   "version": "3.8.5"
  }
 },
 "nbformat": 4,
 "nbformat_minor": 4
}
